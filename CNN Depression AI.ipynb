{
 "cells": [
  {
   "cell_type": "code",
   "execution_count": 4,
   "metadata": {},
   "outputs": [],
   "source": [
    "%matplotlib inline\n",
    "%config InlineBackend.figure_format = 'retina'\n",
    "\n",
    "import numpy as np\n",
    "import pandas as pd\n",
    "import matplotlib.pyplot as plt\n",
    "\n",
    "from sklearn.feature_extraction.text import CountVectorizer, TfidfTransformer\n",
    "from sklearn.linear_model import LogisticRegression\n",
    "from sklearn.svm import SVC\n",
    "from sklearn.model_selection import train_test_split, StratifiedKFold, cross_val_score\n",
    "from sklearn.pipeline import make_pipeline, Pipeline\n",
    "from sklearn.model_selection import GridSearchCV\n",
    "from sklearn.metrics import make_scorer, accuracy_score, f1_score\n",
    "from sklearn.metrics import roc_curve, auc\n",
    "from sklearn.metrics import confusion_matrix, roc_auc_score, recall_score, precision_score\n",
    "from nltk.corpus import stopwords\n",
    "from nltk.tokenize import TweetTokenizer\n",
    "from sklearn import metrics\n",
    "from sklearn.naive_bayes import MultinomialNB\n",
    "import re\n",
    "\n",
    "\n",
    "from keras.preprocessing.text import Tokenizer\n",
    "from keras.preprocessing.sequence import pad_sequences\n",
    "from keras.models import Sequential\n",
    "from keras.layers import Dense,  Conv1D, GlobalMaxPooling1D, Activation\n",
    "from keras.layers.embeddings import Embedding\n"
   ]
  },
  {
   "cell_type": "code",
   "execution_count": 5,
   "metadata": {},
   "outputs": [],
   "source": [
    "#Validation set manually annotated \n",
    "Validationdata = pd.read_csv('data/ds.tsv',delimiter=\"\\t\")\n",
    "\n",
    "#Set of posts samples (positive/control) filtered by their topical similarity with a depression taxonomy (Ht)\n",
    "HT_data = pd.read_csv('data/ts_ht.tsv',delimiter=\"\\t\")"
   ]
  },
  {
   "cell_type": "code",
   "execution_count": 15,
   "metadata": {},
   "outputs": [
    {
     "data": {
      "text/plain": [
       "0      1\n",
       "1      1\n",
       "2      1\n",
       "3      1\n",
       "4      1\n",
       "      ..\n",
       "143    0\n",
       "144    0\n",
       "145    0\n",
       "146    0\n",
       "147    0\n",
       "Name: label, Length: 148, dtype: int64"
      ]
     },
     "execution_count": 15,
     "metadata": {},
     "output_type": "execute_result"
    }
   ],
   "source": [
    "\n",
    "X_train = HT_data['pp_text']\n",
    "X_test = Validationdata['pp_text']\n",
    "y_train = HT_data['label']\n",
    "y_test = Validationdata['label']\n",
    "y_test"
   ]
  },
  {
   "cell_type": "code",
   "execution_count": 17,
   "metadata": {},
   "outputs": [],
   "source": [
    "# defining function to clean text and retrive closs-validation datasets\n",
    "def cleantxt(txt):\n",
    "    \"\"\"\n",
    "    Cleans the string passed. Cleaning Includes-\n",
    "    1. remove special characters/symbols\n",
    "    2. convert text to lower-case\n",
    "    3. retain only alphabets\n",
    "    4. remove words less than 3 characters\n",
    "    5. remove stop-words\n",
    "    \"\"\"  \n",
    "    # collecting english stop words from nltk-library\n",
    "    stpw = stopwords.words('english')\n",
    "    \n",
    "    # Adding custom stop-words\n",
    "    stpw.extend(['www','http','utc'])\n",
    "    stpw = set(stpw)\n",
    "    \n",
    "    # using regex to clean the text\n",
    "    txt = re.sub(\"[\\<\\[].*?[\\>\\]]\", \" \", txt)\n",
    "    txt = txt.lower()\n",
    "    txt = re.sub(r\"[^a-z ]\", \" \", txt)\n",
    "    txt = \" \".join([x for x in txt.split() if x not in stpw])\n",
    "    return txt\n",
    "\n",
    "\n",
    "\n",
    "for text in X_train:\n",
    "    cleantxt(text)\n",
    "    \n",
    "for text in X_test:\n",
    "    cleantxt(text)"
   ]
  },
  {
   "cell_type": "code",
   "execution_count": null,
   "metadata": {},
   "outputs": [],
   "source": []
  },
  {
   "cell_type": "code",
   "execution_count": 18,
   "metadata": {},
   "outputs": [],
   "source": [
    "   \n",
    "tokenizer = Tokenizer(num_words=6948)\n",
    "\n",
    "tokenizer.fit_on_texts(X_train)\n",
    "list_tokenized_train = tokenizer.texts_to_sequences(X_train)\n",
    "\n",
    "tokenizer.fit_on_texts(X_test)\n",
    "list_tokenized_test = tokenizer.texts_to_sequences(X_test)\n",
    "\n",
    "\n",
    "maxlen = 130\n",
    "X_t = pad_sequences(list_tokenized_train, maxlen=maxlen)\n",
    "X_test = pad_sequences(list_tokenized_test, maxlen=maxlen)\n",
    "\n",
    "\n",
    "\n",
    "X_val = X_t[:3000]\n",
    "X_trainn = X_t[3000:]\n",
    "\n",
    "y_val = y_train[:3000]\n",
    "y_trainn = y_train[3000:]\n"
   ]
  },
  {
   "cell_type": "code",
   "execution_count": null,
   "metadata": {},
   "outputs": [],
   "source": []
  },
  {
   "cell_type": "code",
   "execution_count": 9,
   "metadata": {},
   "outputs": [],
   "source": [
    "max_features = 100000\n",
    "batch_size = 128\n",
    "epochs = 5\n",
    "num_classes=5\n",
    "embed_size = 128\n",
    "num_unique_word = 6948"
   ]
  },
  {
   "cell_type": "code",
   "execution_count": 10,
   "metadata": {},
   "outputs": [
    {
     "name": "stdout",
     "output_type": "stream",
     "text": [
      "Model: \"sequential\"\n",
      "_________________________________________________________________\n",
      "Layer (type)                 Output Shape              Param #   \n",
      "=================================================================\n",
      "embedding (Embedding)        (None, None, 128)         889344    \n",
      "_________________________________________________________________\n",
      "conv1d (Conv1D)              (None, None, 64)          16448     \n",
      "_________________________________________________________________\n",
      "global_max_pooling1d (Global (None, 64)                0         \n",
      "_________________________________________________________________\n",
      "dense (Dense)                (None, 1)                 65        \n",
      "=================================================================\n",
      "Total params: 905,857\n",
      "Trainable params: 905,857\n",
      "Non-trainable params: 0\n",
      "_________________________________________________________________\n"
     ]
    }
   ],
   "source": [
    "\n",
    "modelCNN = Sequential()\n",
    "modelCNN.add(Embedding(num_unique_word, embed_size))\n",
    "modelCNN.add(Conv1D(64,kernel_size=2,padding='same',activation='relu',strides=1))\n",
    "modelCNN.add(GlobalMaxPooling1D())\n",
    "modelCNN.add(Dense(1, activation=\"relu\"))\n",
    "\n",
    "\n",
    "modelCNN.compile(loss='binary_crossentropy',optimizer='adam',metrics=['accuracy'])\n",
    "\n",
    "modelCNN.summary()"
   ]
  },
  {
   "cell_type": "code",
   "execution_count": 11,
   "metadata": {},
   "outputs": [
    {
     "name": "stdout",
     "output_type": "stream",
     "text": [
      "Epoch 1/5\n",
      "32/32 [==============================] - 2s 41ms/step - loss: 1.0317 - accuracy: 0.5266 - val_loss: 0.5531 - val_accuracy: 0.7383\n",
      "Epoch 2/5\n",
      "32/32 [==============================] - 1s 18ms/step - loss: 0.4747 - accuracy: 0.8045 - val_loss: 0.5093 - val_accuracy: 0.7540\n",
      "Epoch 3/5\n",
      "32/32 [==============================] - 1s 19ms/step - loss: 0.3873 - accuracy: 0.8642 - val_loss: 0.4700 - val_accuracy: 0.7790\n",
      "Epoch 4/5\n",
      "32/32 [==============================] - 1s 18ms/step - loss: 0.2970 - accuracy: 0.9087 - val_loss: 0.4343 - val_accuracy: 0.8063\n",
      "Epoch 5/5\n",
      "32/32 [==============================] - 1s 18ms/step - loss: 0.2306 - accuracy: 0.9417 - val_loss: 0.4103 - val_accuracy: 0.8237\n"
     ]
    }
   ],
   "source": [
    "hist = modelCNN.fit(X_trainn,y_trainn, batch_size=batch_size, epochs=epochs, validation_data=(X_val, y_val))"
   ]
  },
  {
   "cell_type": "code",
   "execution_count": 12,
   "metadata": {},
   "outputs": [
    {
     "name": "stdout",
     "output_type": "stream",
     "text": [
      "5/5 [==============================] - 0s 2ms/step - loss: 0.5996 - accuracy: 0.7432\n"
     ]
    }
   ],
   "source": [
    "results = modelCNN.evaluate(X_test,Validationdata['label'])"
   ]
  },
  {
   "cell_type": "code",
   "execution_count": 25,
   "metadata": {},
   "outputs": [
    {
     "name": "stdout",
     "output_type": "stream",
     "text": [
      "0.8727272727272727\n",
      "0.6075949367088608\n",
      "0.753072830673271\n"
     ]
    },
    {
     "data": {
      "text/plain": [
       "0.7432432432432432"
      ]
     },
     "execution_count": 25,
     "metadata": {},
     "output_type": "execute_result"
    }
   ],
   "source": [
    "\n",
    "predictedsvm = modelCNN.predict_classes(X_test)\n",
    "predictedsvm = predictedsvm[:, 0]\n",
    "accuracy_score_sig = metrics.accuracy_score(predictedsvm, y_test)\n",
    "accuracy_score_auc = metrics.roc_auc_score(predictedsvm, y_test)\n",
    "accuracy_score_priv = metrics.precision_score(predictedsvm, y_test)\n",
    "accuracy_score_recall = metrics.recall_score(predictedsvm, y_test)\n",
    "\n",
    "print(accuracy_score_priv)\n",
    "print(accuracy_score_recall)\n",
    "print(accuracy_score_auc)\n",
    "accuracy_score_sig"
   ]
  },
  {
   "cell_type": "code",
   "execution_count": null,
   "metadata": {},
   "outputs": [],
   "source": [
    "\n",
    " "
   ]
  }
 ],
 "metadata": {
  "kernelspec": {
   "display_name": "Python 3",
   "language": "python",
   "name": "python3"
  },
  "language_info": {
   "codemirror_mode": {
    "name": "ipython",
    "version": 3
   },
   "file_extension": ".py",
   "mimetype": "text/x-python",
   "name": "python",
   "nbconvert_exporter": "python",
   "pygments_lexer": "ipython3",
   "version": "3.8.5"
  }
 },
 "nbformat": 4,
 "nbformat_minor": 4
}
