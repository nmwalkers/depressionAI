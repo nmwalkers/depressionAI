{
 "cells": [
  {
   "cell_type": "code",
   "execution_count": 22,
   "metadata": {},
   "outputs": [],
   "source": [
    "import pandas as pd\n",
    "import numpy as np\n",
    "import matplotlib.pyplot as plt\n",
    "%matplotlib inline\n",
    "\n",
    "import re\n",
    "\n",
    "# Importing required libraries\n",
    "from sklearn.model_selection import train_test_split\n",
    "from nltk.corpus import stopwords\n",
    "from sklearn import metrics\n",
    "\n",
    "from keras.preprocessing.text import Tokenizer\n",
    "from keras.preprocessing.sequence import pad_sequences\n",
    "from keras.models import Sequential\n",
    "from keras.layers import Dense, Flatten, LSTM, Conv1D, MaxPooling1D, GlobalMaxPooling1D, Dropout, Activation\n",
    "from keras.layers.embeddings import Embedding\n",
    "## Plotly\n",
    "# Others\n",
    "import nltk\n",
    "import string\n",
    "import numpy as np\n",
    "import pandas as pd\n",
    "from nltk.corpus import stopwords\n",
    "from sklearn.manifold import TSNE"
   ]
  },
  {
   "cell_type": "code",
   "execution_count": 23,
   "metadata": {},
   "outputs": [],
   "source": [
    "#Validation set manually annotated \n",
    "Validationdata = pd.read_csv('data/ds.tsv',delimiter=\"\\t\")\n",
    "\n",
    "#Set of posts samples (positive/control) filtered by their topical similarity with a depression taxonomy (Ht)\n",
    "HT_data = pd.read_csv('data/ts_ht.tsv',delimiter=\"\\t\")\n",
    "\n",
    "# Set of posts samples (positive/control) filtered by their sentiment polarity score (Hs)\n",
    "HS_data = pd.read_csv('data/ts_hs.tsv',delimiter=\"\\t\")"
   ]
  },
  {
   "cell_type": "code",
   "execution_count": 24,
   "metadata": {},
   "outputs": [
    {
     "data": {
      "text/plain": [
       "0      1\n",
       "1      1\n",
       "2      1\n",
       "3      1\n",
       "4      1\n",
       "      ..\n",
       "143    0\n",
       "144    0\n",
       "145    0\n",
       "146    0\n",
       "147    0\n",
       "Name: label, Length: 148, dtype: int64"
      ]
     },
     "execution_count": 24,
     "metadata": {},
     "output_type": "execute_result"
    }
   ],
   "source": [
    "\n",
    "X_train = HT_data['pp_text']\n",
    "X_test = Validationdata['pp_text']\n",
    "y_train = HT_data['label']\n",
    "y_test = Validationdata['label']\n",
    "y_test"
   ]
  },
  {
   "cell_type": "code",
   "execution_count": 25,
   "metadata": {},
   "outputs": [],
   "source": [
    "# defining function to clean text and retrive closs-validation datasets\n",
    "def cleantxt(txt):\n",
    "    \"\"\"\n",
    "    Cleans the string passed. Cleaning Includes-\n",
    "    1. remove special characters/symbols\n",
    "    2. convert text to lower-case\n",
    "    3. retain only alphabets\n",
    "    4. remove words less than 3 characters\n",
    "    5. remove stop-words\n",
    "    \"\"\"  \n",
    "    # collecting english stop words from nltk-library\n",
    "    stpw = stopwords.words('english')\n",
    "    \n",
    "    # Adding custom stop-words\n",
    "    stpw.extend(['www','http','utc'])\n",
    "    stpw = set(stpw)\n",
    "    \n",
    "    # using regex to clean the text\n",
    "    txt = re.sub(\"[\\<\\[].*?[\\>\\]]\", \" \", txt)\n",
    "    txt = txt.lower()\n",
    "    txt = re.sub(r\"[^a-z ]\", \" \", txt)\n",
    "    txt = \" \".join([x for x in txt.split() if x not in stpw])\n",
    "    return txt\n",
    "\n",
    "\n"
   ]
  },
  {
   "cell_type": "code",
   "execution_count": 26,
   "metadata": {},
   "outputs": [],
   "source": [
    "\n",
    "for text in X_train:\n",
    "    cleantxt(text)\n",
    "    \n",
    "for text in X_test:\n",
    "    cleantxt(text)"
   ]
  },
  {
   "cell_type": "code",
   "execution_count": 27,
   "metadata": {},
   "outputs": [],
   "source": [
    "max_features = 100000\n",
    "batch_size = 128\n",
    "epochs = 5\n",
    "num_classes=5\n",
    "embed_size = 128\n",
    "num_unique_word = 6948"
   ]
  },
  {
   "cell_type": "code",
   "execution_count": 28,
   "metadata": {},
   "outputs": [
    {
     "name": "stdout",
     "output_type": "stream",
     "text": [
      "Shape of X train and X validation tensor: (4000, 150) (3000, 150)\n",
      "Shape of label train and validation tensor: (4000,) (3000,)\n"
     ]
    }
   ],
   "source": [
    "   \n",
    "tokenizer = Tokenizer(num_words=num_unique_word)\n",
    "\n",
    "tokenizer.fit_on_texts(X_train)\n",
    "list_tokenized_train = tokenizer.texts_to_sequences(X_train)\n",
    "\n",
    "tokenizer.fit_on_texts(X_test)\n",
    "list_tokenized_test = tokenizer.texts_to_sequences(X_test)\n",
    "\n",
    "\n",
    "\n",
    "X_t = pad_sequences(list_tokenized_train, 150)\n",
    "X_test = pad_sequences(list_tokenized_test, 150)\n",
    "\n",
    "\n",
    "\n",
    "X_val = X_t[:3000]\n",
    "X_trainn = X_t[3000:]\n",
    "\n",
    "y_val = y_train[:3000]\n",
    "y_trainn = y_train[3000:]\n",
    "\n",
    "y_trainn = np.asarray(y_trainn)\n",
    "y_val = np.asarray(y_val)\n",
    "\n",
    "print('Shape of X train and X validation tensor:', X_trainn.shape,X_val.shape)\n",
    "print('Shape of label train and validation tensor:', y_trainn.shape,y_val.shape)"
   ]
  },
  {
   "cell_type": "code",
   "execution_count": 8,
   "metadata": {},
   "outputs": [
    {
     "name": "stdout",
     "output_type": "stream",
     "text": [
      "Loaded 1193515 word vectors.\n"
     ]
    }
   ],
   "source": [
    "word_vectors = dict()\n",
    "\n",
    "# load the whole embedding into memory\n",
    "f = open('glove.twitter.27B.200d.txt', encoding=\"utf8\")\n",
    "for line in f:\n",
    "    values = line.split()\n",
    "    word = values[0]\n",
    "    coefs = np.asarray(values[1:], dtype='float32')\n",
    "    word_vectors[word] = coefs\n",
    "f.close()\n",
    "print('Loaded %s word vectors.' % len(word_vectors))"
   ]
  },
  {
   "cell_type": "code",
   "execution_count": 9,
   "metadata": {},
   "outputs": [],
   "source": [
    "\n",
    "vocabulary_size = 6948 \n",
    "\n"
   ]
  },
  {
   "cell_type": "code",
   "execution_count": 10,
   "metadata": {},
   "outputs": [],
   "source": [
    "embedding_matrix = np.zeros((num_unique_word, 200))\n",
    "for word, index in tokenizer.word_index.items():\n",
    "    if index > num_unique_word - 1:\n",
    "        break\n",
    "    else:\n",
    "        embedding_vector = word_vectors.get(word)\n",
    "        if embedding_vector is not None:\n",
    "            embedding_matrix[index] = embedding_vector"
   ]
  },
  {
   "cell_type": "code",
   "execution_count": null,
   "metadata": {},
   "outputs": [],
   "source": []
  },
  {
   "cell_type": "code",
   "execution_count": 11,
   "metadata": {},
   "outputs": [],
   "source": [
    "## create model\n",
    "model_glove = Sequential()\n",
    "model_glove.add(Embedding(vocabulary_size, 200, input_length=150, weights=[embedding_matrix], trainable=False))\n",
    "model_glove.add(Dropout(0.2))\n",
    "model_glove.add(Conv1D(64, 5, activation='relu'))\n",
    "model_glove.add(MaxPooling1D(pool_size=4))\n",
    "model_glove.add(LSTM(100))\n",
    "model_glove.add(Dense(1, activation='sigmoid'))\n",
    "model_glove.compile(loss='binary_crossentropy', optimizer='adam', metrics=['accuracy'])\n",
    "## Fit train data"
   ]
  },
  {
   "cell_type": "code",
   "execution_count": 12,
   "metadata": {},
   "outputs": [
    {
     "name": "stdout",
     "output_type": "stream",
     "text": [
      "Epoch 1/5\n",
      "32/32 [==============================] - 4s 90ms/step - loss: 0.6181 - accuracy: 0.6549 - val_loss: 0.5521 - val_accuracy: 0.7390\n",
      "Epoch 2/5\n",
      "32/32 [==============================] - 2s 60ms/step - loss: 0.5056 - accuracy: 0.7585 - val_loss: 0.5413 - val_accuracy: 0.7303\n",
      "Epoch 3/5\n",
      "32/32 [==============================] - 2s 60ms/step - loss: 0.4990 - accuracy: 0.7651 - val_loss: 0.5090 - val_accuracy: 0.7590\n",
      "Epoch 4/5\n",
      "32/32 [==============================] - 2s 60ms/step - loss: 0.4701 - accuracy: 0.7821 - val_loss: 0.4937 - val_accuracy: 0.7697\n",
      "Epoch 5/5\n",
      "32/32 [==============================] - 2s 61ms/step - loss: 0.4279 - accuracy: 0.8077 - val_loss: 0.5221 - val_accuracy: 0.7603\n"
     ]
    }
   ],
   "source": [
    "\n",
    "hist = model_glove.fit(X_trainn,y_trainn, batch_size=batch_size, epochs=epochs, validation_data=(X_val, y_val))"
   ]
  },
  {
   "cell_type": "code",
   "execution_count": 13,
   "metadata": {},
   "outputs": [
    {
     "name": "stdout",
     "output_type": "stream",
     "text": [
      "5/5 [==============================] - 0s 5ms/step - loss: 0.5537 - accuracy: 0.7500\n"
     ]
    }
   ],
   "source": [
    "results = model_glove.evaluate(X_test,Validationdata['label'])"
   ]
  },
  {
   "cell_type": "code",
   "execution_count": 29,
   "metadata": {},
   "outputs": [
    {
     "name": "stderr",
     "output_type": "stream",
     "text": [
      "C:\\Users\\calum\\anaconda3\\lib\\site-packages\\tensorflow\\python\\keras\\engine\\sequential.py:450: UserWarning: `model.predict_classes()` is deprecated and will be removed after 2021-01-01. Please use instead:* `np.argmax(model.predict(x), axis=-1)`,   if your model does multi-class classification   (e.g. if it uses a `softmax` last-layer activation).* `(model.predict(x) > 0.5).astype(\"int32\")`,   if your model does binary classification   (e.g. if it uses a `sigmoid` last-layer activation).\n",
      "  warnings.warn('`model.predict_classes()` is deprecated and '\n"
     ]
    },
    {
     "name": "stdout",
     "output_type": "stream",
     "text": [
      "0.9272727272727272\n",
      "0.6071428571428571\n",
      "0.7723214285714286\n"
     ]
    },
    {
     "data": {
      "text/plain": [
       "0.75"
      ]
     },
     "execution_count": 29,
     "metadata": {},
     "output_type": "execute_result"
    }
   ],
   "source": [
    "\n",
    "predictedsvm = model_glove.predict_classes(X_test)\n",
    "predictedsvm = predictedsvm[:, 0]\n",
    "accuracy_score_sig = metrics.accuracy_score(predictedsvm, y_test)\n",
    "accuracy_score_auc = metrics.roc_auc_score(predictedsvm, y_test)\n",
    "accuracy_score_priv = metrics.precision_score(predictedsvm, y_test)\n",
    "accuracy_score_recall = metrics.recall_score(predictedsvm, y_test)\n",
    "\n",
    "print(accuracy_score_priv)\n",
    "print(accuracy_score_recall)\n",
    "print(accuracy_score_auc)\n",
    "accuracy_score_sig"
   ]
  },
  {
   "cell_type": "code",
   "execution_count": null,
   "metadata": {},
   "outputs": [],
   "source": []
  },
  {
   "cell_type": "code",
   "execution_count": null,
   "metadata": {},
   "outputs": [],
   "source": []
  },
  {
   "cell_type": "code",
   "execution_count": 14,
   "metadata": {},
   "outputs": [],
   "source": [
    "## create model\n",
    "model2 = Sequential()\n",
    "model2.add(Embedding(vocabulary_size, 200, input_length=160, weights=[embedding_matrix], trainable=False))\n",
    "model2.add(Dropout(0.2))\n",
    "model2.add(Conv1D(64, 5, activation='relu'))\n",
    "model2.add(MaxPooling1D(pool_size=4))\n",
    "model2.add(Dense(1, activation='sigmoid'))\n",
    "model2.compile(loss='binary_crossentropy', optimizer='adam', metrics=['accuracy'])\n",
    "## Fit train data"
   ]
  },
  {
   "cell_type": "code",
   "execution_count": 15,
   "metadata": {},
   "outputs": [
    {
     "name": "stdout",
     "output_type": "stream",
     "text": [
      "Epoch 1/5\n",
      "WARNING:tensorflow:Model was constructed with shape (None, 160) for input KerasTensor(type_spec=TensorSpec(shape=(None, 160), dtype=tf.float32, name='embedding_1_input'), name='embedding_1_input', description=\"created by layer 'embedding_1_input'\"), but it was called on an input with incompatible shape (None, 150).\n",
      "WARNING:tensorflow:Model was constructed with shape (None, 160) for input KerasTensor(type_spec=TensorSpec(shape=(None, 160), dtype=tf.float32, name='embedding_1_input'), name='embedding_1_input', description=\"created by layer 'embedding_1_input'\"), but it was called on an input with incompatible shape (None, 150).\n",
      "31/32 [============================>.] - ETA: 0s - loss: 0.6592 - accuracy: 0.6020WARNING:tensorflow:Model was constructed with shape (None, 160) for input KerasTensor(type_spec=TensorSpec(shape=(None, 160), dtype=tf.float32, name='embedding_1_input'), name='embedding_1_input', description=\"created by layer 'embedding_1_input'\"), but it was called on an input with incompatible shape (None, 150).\n",
      "32/32 [==============================] - 2s 43ms/step - loss: 0.6584 - accuracy: 0.6037 - val_loss: 0.6405 - val_accuracy: 0.6499\n",
      "Epoch 2/5\n",
      "32/32 [==============================] - 1s 38ms/step - loss: 0.6357 - accuracy: 0.6452 - val_loss: 0.6333 - val_accuracy: 0.6508\n",
      "Epoch 3/5\n",
      "32/32 [==============================] - 1s 38ms/step - loss: 0.6239 - accuracy: 0.6516 - val_loss: 0.6289 - val_accuracy: 0.6515\n",
      "Epoch 4/5\n",
      "32/32 [==============================] - 1s 38ms/step - loss: 0.6191 - accuracy: 0.6592 - val_loss: 0.6315 - val_accuracy: 0.6509\n",
      "Epoch 5/5\n",
      "32/32 [==============================] - 1s 38ms/step - loss: 0.6131 - accuracy: 0.6649 - val_loss: 0.6272 - val_accuracy: 0.6516\n"
     ]
    }
   ],
   "source": [
    "hist2 = model2.fit(X_trainn,y_trainn, batch_size=batch_size, epochs=epochs, validation_data=(X_val, y_val))"
   ]
  },
  {
   "cell_type": "code",
   "execution_count": 16,
   "metadata": {},
   "outputs": [
    {
     "name": "stdout",
     "output_type": "stream",
     "text": [
      "5/5 [==============================] - 0s 3ms/step - loss: 0.6299 - accuracy: 0.7205\n"
     ]
    }
   ],
   "source": [
    "model2 = model2.evaluate(X_test,Validationdata['label'])"
   ]
  },
  {
   "cell_type": "code",
   "execution_count": 20,
   "metadata": {},
   "outputs": [
    {
     "ename": "AttributeError",
     "evalue": "'list' object has no attribute 'predict_classes'",
     "output_type": "error",
     "traceback": [
      "\u001b[1;31m---------------------------------------------------------------------------\u001b[0m",
      "\u001b[1;31mAttributeError\u001b[0m                            Traceback (most recent call last)",
      "\u001b[1;32m<ipython-input-20-a04d815c737c>\u001b[0m in \u001b[0;36m<module>\u001b[1;34m\u001b[0m\n\u001b[1;32m----> 1\u001b[1;33m \u001b[0mpredictedsvm\u001b[0m \u001b[1;33m=\u001b[0m \u001b[0mmodel2\u001b[0m\u001b[1;33m.\u001b[0m\u001b[0mpredict_classes\u001b[0m\u001b[1;33m(\u001b[0m\u001b[0mX_test\u001b[0m\u001b[1;33m)\u001b[0m\u001b[1;33m\u001b[0m\u001b[1;33m\u001b[0m\u001b[0m\n\u001b[0m\u001b[0;32m      2\u001b[0m \u001b[0mpredictedsvm\u001b[0m \u001b[1;33m=\u001b[0m \u001b[0mpredictedsvm\u001b[0m\u001b[1;33m[\u001b[0m\u001b[1;33m:\u001b[0m\u001b[1;33m,\u001b[0m \u001b[1;36m0\u001b[0m\u001b[1;33m]\u001b[0m\u001b[1;33m\u001b[0m\u001b[1;33m\u001b[0m\u001b[0m\n\u001b[0;32m      3\u001b[0m \u001b[0maccuracy_score_sig\u001b[0m \u001b[1;33m=\u001b[0m \u001b[0mmetrics\u001b[0m\u001b[1;33m.\u001b[0m\u001b[0maccuracy_score\u001b[0m\u001b[1;33m(\u001b[0m\u001b[0mpredictedsvm\u001b[0m\u001b[1;33m,\u001b[0m \u001b[0my_test\u001b[0m\u001b[1;33m)\u001b[0m\u001b[1;33m\u001b[0m\u001b[1;33m\u001b[0m\u001b[0m\n\u001b[0;32m      4\u001b[0m \u001b[0maccuracy_score_auc\u001b[0m \u001b[1;33m=\u001b[0m \u001b[0mmetrics\u001b[0m\u001b[1;33m.\u001b[0m\u001b[0mroc_auc_score\u001b[0m\u001b[1;33m(\u001b[0m\u001b[0mpredictedsvm\u001b[0m\u001b[1;33m,\u001b[0m \u001b[0my_test\u001b[0m\u001b[1;33m)\u001b[0m\u001b[1;33m\u001b[0m\u001b[1;33m\u001b[0m\u001b[0m\n\u001b[0;32m      5\u001b[0m \u001b[0maccuracy_score_priv\u001b[0m \u001b[1;33m=\u001b[0m \u001b[0mmetrics\u001b[0m\u001b[1;33m.\u001b[0m\u001b[0mprecision_score\u001b[0m\u001b[1;33m(\u001b[0m\u001b[0mpredictedsvm\u001b[0m\u001b[1;33m,\u001b[0m \u001b[0my_test\u001b[0m\u001b[1;33m)\u001b[0m\u001b[1;33m\u001b[0m\u001b[1;33m\u001b[0m\u001b[0m\n",
      "\u001b[1;31mAttributeError\u001b[0m: 'list' object has no attribute 'predict_classes'"
     ]
    }
   ],
   "source": [
    "\n",
    "predictedsvm = model2.predict_classes(X_test)\n",
    "predictedsvm = predictedsvm[:, 0]\n",
    "accuracy_score_sig = metrics.accuracy_score(predictedsvm, y_test)\n",
    "accuracy_score_auc = metrics.roc_auc_score(predictedsvm, y_test)\n",
    "accuracy_score_priv = metrics.precision_score(predictedsvm, y_test)\n",
    "accuracy_score_recall = metrics.recall_score(predictedsvm, y_test)\n",
    "\n",
    "print(accuracy_score_priv)\n",
    "print(accuracy_score_recall)\n",
    "print(accuracy_score_auc)\n",
    "accuracy_score_sig"
   ]
  },
  {
   "cell_type": "code",
   "execution_count": 17,
   "metadata": {},
   "outputs": [
    {
     "name": "stdout",
     "output_type": "stream",
     "text": [
      "Epoch 1/5\n",
      "32/32 [==============================] - 4s 73ms/step - loss: 2.2200 - accuracy: 0.6410 - val_loss: 0.9028 - val_accuracy: 0.5093\n",
      "Epoch 2/5\n",
      "32/32 [==============================] - 2s 62ms/step - loss: 0.6512 - accuracy: 0.6579 - val_loss: 0.5770 - val_accuracy: 0.7237\n",
      "Epoch 3/5\n",
      "32/32 [==============================] - 2s 64ms/step - loss: 0.5412 - accuracy: 0.7303 - val_loss: 0.5555 - val_accuracy: 0.7273\n",
      "Epoch 4/5\n",
      "32/32 [==============================] - 2s 64ms/step - loss: 0.5222 - accuracy: 0.7505 - val_loss: 0.5587 - val_accuracy: 0.7397\n",
      "Epoch 5/5\n",
      "32/32 [==============================] - 2s 64ms/step - loss: 0.4960 - accuracy: 0.7754 - val_loss: 0.5540 - val_accuracy: 0.7453\n"
     ]
    }
   ],
   "source": [
    "\n",
    "\n",
    "## create model\n",
    "model_glove3 = Sequential()\n",
    "model_glove3.add(Embedding(vocabulary_size, 200, input_length=150, weights=[embedding_matrix], trainable=False))\n",
    "model_glove3.add(Dropout(0.2))\n",
    "model_glove3.add(Conv1D(64, 5, activation='relu'))\n",
    "model_glove3.add(MaxPooling1D(pool_size=4))\n",
    "model_glove3.add(LSTM(100))\n",
    "model_glove3.add(Dense(1, activation='relu'))\n",
    "model_glove3.compile(loss='binary_crossentropy', optimizer='adam', metrics=['accuracy'])\n",
    "## Fit train data\n",
    "hist2 = model_glove3.fit(X_trainn,y_trainn, batch_size=batch_size, epochs=epochs, validation_data=(X_val, y_val))"
   ]
  },
  {
   "cell_type": "code",
   "execution_count": null,
   "metadata": {},
   "outputs": [],
   "source": []
  },
  {
   "cell_type": "code",
   "execution_count": null,
   "metadata": {},
   "outputs": [],
   "source": []
  },
  {
   "cell_type": "code",
   "execution_count": null,
   "metadata": {},
   "outputs": [],
   "source": []
  },
  {
   "cell_type": "code",
   "execution_count": 18,
   "metadata": {},
   "outputs": [
    {
     "name": "stdout",
     "output_type": "stream",
     "text": [
      "5/5 [==============================] - 0s 5ms/step - loss: 0.4367 - accuracy: 0.8311\n"
     ]
    }
   ],
   "source": [
    "results = model_glove3.evaluate(X_test,Validationdata['label'])"
   ]
  },
  {
   "cell_type": "code",
   "execution_count": 19,
   "metadata": {},
   "outputs": [
    {
     "name": "stderr",
     "output_type": "stream",
     "text": [
      "C:\\Users\\calum\\anaconda3\\lib\\site-packages\\tensorflow\\python\\keras\\engine\\sequential.py:450: UserWarning: `model.predict_classes()` is deprecated and will be removed after 2021-01-01. Please use instead:* `np.argmax(model.predict(x), axis=-1)`,   if your model does multi-class classification   (e.g. if it uses a `softmax` last-layer activation).* `(model.predict(x) > 0.5).astype(\"int32\")`,   if your model does binary classification   (e.g. if it uses a `sigmoid` last-layer activation).\n",
      "  warnings.warn('`model.predict_classes()` is deprecated and '\n"
     ]
    },
    {
     "name": "stdout",
     "output_type": "stream",
     "text": [
      "0.8909090909090909\n",
      "0.7205882352941176\n",
      "0.8227941176470589\n"
     ]
    },
    {
     "data": {
      "text/plain": [
       "0.831081081081081"
      ]
     },
     "execution_count": 19,
     "metadata": {},
     "output_type": "execute_result"
    }
   ],
   "source": [
    "\n",
    "predictedsvm = model_glove3.predict_classes(X_test)\n",
    "predictedsvm = predictedsvm[:, 0]\n",
    "accuracy_score_sig = metrics.accuracy_score(predictedsvm, y_test)\n",
    "accuracy_score_auc = metrics.roc_auc_score(predictedsvm, y_test)\n",
    "accuracy_score_priv = metrics.precision_score(predictedsvm, y_test)\n",
    "accuracy_score_recall = metrics.recall_score(predictedsvm, y_test)\n",
    "\n",
    "print(accuracy_score_priv)\n",
    "print(accuracy_score_recall)\n",
    "print(accuracy_score_auc)\n",
    "accuracy_score_sig"
   ]
  },
  {
   "cell_type": "code",
   "execution_count": 30,
   "metadata": {},
   "outputs": [
    {
     "data": {
      "image/png": "[encoded data removed]",
      "text/plain": [
       "<Figure size 432x288 with 1 Axes>"
      ]
     },
     "metadata": {
      "needs_background": "light"
     },
     "output_type": "display_data"
    }
   ],
   "source": [
    "plt.plot(hist2.history['accuracy'])\n",
    "plt.plot(hist2.history['val_accuracy'])\n",
    "plt.title('Model accuracy')\n",
    "plt.ylabel('Accuracy')\n",
    "plt.xlabel('Epoch')\n",
    "plt.legend(['Train', 'Val'], loc='lower right')\n",
    "plt.show()"
   ]
  },
  {
   "cell_type": "code",
   "execution_count": 43,
   "metadata": {},
   "outputs": [
    {
     "data": {
      "image/png": "[encoded data removed]",
      "text/plain": [
       "<Figure size 432x288 with 1 Axes>"
      ]
     },
     "metadata": {
      "needs_background": "light"
     },
     "output_type": "display_data"
    }
   ],
   "source": [
    "plt.plot(hist2.history['val_accuracy'])\n",
    "plt.plot(hist2.history['val_loss'])\n",
    "plt.title('Model accuracy')\n",
    "plt.ylabel('Accuracy')\n",
    "plt.xlabel('Epoch')\n",
    "plt.legend(['Validation Accuracy', 'Validation Loss'], loc='lower right')\n",
    "plt.show()"
   ]
  },
  {
   "cell_type": "code",
   "execution_count": 42,
   "metadata": {},
   "outputs": [
    {
     "data": {
      "image/png": "[encoded data removed]",
      "text/plain": [
       "<Figure size 432x288 with 1 Axes>"
      ]
     },
     "metadata": {
      "needs_background": "light"
     },
     "output_type": "display_data"
    }
   ],
   "source": [
    "\n",
    "plt.plot(hist2.history['val_loss'])\n",
    "plt.title('Model loss')\n",
    "plt.ylabel('Loss')\n",
    "plt.xlabel('Epoch')\n",
    "plt.legend(['Val'], loc='upper center')\n",
    "plt.show()"
   ]
  },
  {
   "cell_type": "code",
   "execution_count": 45,
   "metadata": {},
   "outputs": [
    {
     "data": {
      "text/plain": [
       "<AxesSubplot:title={'center':'Confusion Matrix'}, xlabel='Predicted label', ylabel='True label'>"
      ]
     },
     "execution_count": 45,
     "metadata": {},
     "output_type": "execute_result"
    },
    {
     "data": {
      "image/png": "[encoded data removed]",
      "text/plain": [
       "<Figure size 864x864 with 2 Axes>"
      ]
     },
     "metadata": {},
     "output_type": "display_data"
    }
   ],
   "source": [
    "import scikitplot as skplt\n",
    "import seaborn as sns\n",
    "\n",
    "sns.set(font_scale=3.0)\n",
    "skplt.metrics.plot_confusion_matrix(\n",
    "    y_test, \n",
    "    predictedsvm,\n",
    "    figsize=(12,12))"
   ]
  },
  {
   "cell_type": "code",
   "execution_count": null,
   "metadata": {},
   "outputs": [],
   "source": []
  }
 ],
 "metadata": {
  "kernelspec": {
   "display_name": "Python 3",
   "language": "python",
   "name": "python3"
  },
  "language_info": {
   "codemirror_mode": {
    "name": "ipython",
    "version": 3
   },
   "file_extension": ".py",
   "mimetype": "text/x-python",
   "name": "python",
   "nbconvert_exporter": "python",
   "pygments_lexer": "ipython3",
   "version": "3.8.5"
  }
 },
 "nbformat": 4,
 "nbformat_minor": 4
}
