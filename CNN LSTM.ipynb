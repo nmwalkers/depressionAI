{
 "cells": [
  {
   "cell_type": "code",
   "execution_count": 1,
   "metadata": {},
   "outputs": [],
   "source": [
    "%matplotlib inline\n",
    "%config InlineBackend.figure_format = 'retina'\n",
    "\n",
    "import numpy as np\n",
    "import pandas as pd\n",
    "import matplotlib.pyplot as plt\n",
    "\n",
    "from sklearn.feature_extraction.text import CountVectorizer, TfidfTransformer\n",
    "from sklearn.linear_model import LogisticRegression\n",
    "from sklearn.svm import SVC\n",
    "from sklearn.model_selection import train_test_split, StratifiedKFold, cross_val_score\n",
    "from sklearn.pipeline import make_pipeline, Pipeline\n",
    "from sklearn.model_selection import GridSearchCV\n",
    "from sklearn.metrics import make_scorer, accuracy_score, f1_score\n",
    "from sklearn.metrics import roc_curve, auc\n",
    "from sklearn.metrics import confusion_matrix, roc_auc_score, recall_score, precision_score\n",
    "from nltk.corpus import stopwords\n",
    "from nltk.tokenize import TweetTokenizer\n",
    "from sklearn import metrics\n",
    "from sklearn.naive_bayes import MultinomialNB\n",
    "import re\n",
    "\n",
    "\n",
    "from keras.preprocessing.text import Tokenizer\n",
    "from keras.preprocessing.sequence import pad_sequences\n",
    "from keras.models import Sequential\n",
    "from keras.layers import Dense, Flatten, LSTM, Conv1D, GlobalMaxPooling1D, MaxPooling1D, Dropout, Activation\n",
    "from keras.layers.embeddings import Embedding\n"
   ]
  },
  {
   "cell_type": "code",
   "execution_count": 2,
   "metadata": {},
   "outputs": [],
   "source": [
    "#Validation set manually annotated \n",
    "Validationdata = pd.read_csv('data/ds.tsv',delimiter=\"\\t\")\n",
    "\n",
    "#Set of posts samples (positive/control) filtered by their topical similarity with a depression taxonomy (Ht)\n",
    "HT_data = pd.read_csv('data/ts_ht.tsv',delimiter=\"\\t\")\n"
   ]
  },
  {
   "cell_type": "code",
   "execution_count": 3,
   "metadata": {},
   "outputs": [
    {
     "data": {
      "text/plain": [
       "0      1\n",
       "1      1\n",
       "2      1\n",
       "3      1\n",
       "4      1\n",
       "      ..\n",
       "143    0\n",
       "144    0\n",
       "145    0\n",
       "146    0\n",
       "147    0\n",
       "Name: label, Length: 148, dtype: int64"
      ]
     },
     "execution_count": 3,
     "metadata": {},
     "output_type": "execute_result"
    }
   ],
   "source": [
    "\n",
    "X_train = HT_data['pp_text']\n",
    "X_test = Validationdata['pp_text']\n",
    "y_train = HT_data['label']\n",
    "y_test = Validationdata['label']\n",
    "y_test"
   ]
  },
  {
   "cell_type": "code",
   "execution_count": 4,
   "metadata": {},
   "outputs": [],
   "source": [
    "# defining function to clean text and retrive closs-validation datasets\n",
    "def cleantxt(txt):\n",
    "    \"\"\"\n",
    "    Cleans the string passed. Cleaning Includes-\n",
    "    1. remove special characters/symbols\n",
    "    2. convert text to lower-case\n",
    "    3. retain only alphabets\n",
    "    4. remove words less than 3 characters\n",
    "    5. remove stop-words\n",
    "    \"\"\"  \n",
    "    # collecting english stop words from nltk-library\n",
    "    stpw = stopwords.words('english')\n",
    "    \n",
    "    # Adding custom stop-words\n",
    "    stpw.extend(['www','http','utc'])\n",
    "    stpw = set(stpw)\n",
    "    \n",
    "    # using regex to clean the text\n",
    "    txt = re.sub(\"[\\<\\[].*?[\\>\\]]\", \" \", txt)\n",
    "    txt = txt.lower()\n",
    "    txt = re.sub(r\"[^a-z ]\", \" \", txt)\n",
    "    txt = \" \".join([x for x in txt.split() if x not in stpw])\n",
    "    return txt\n",
    "\n",
    "\n"
   ]
  },
  {
   "cell_type": "code",
   "execution_count": 5,
   "metadata": {},
   "outputs": [],
   "source": [
    "\n",
    "for text in X_train:\n",
    "    cleantxt(text)\n",
    "    \n",
    "for text in X_test:\n",
    "    cleantxt(text)"
   ]
  },
  {
   "cell_type": "code",
   "execution_count": null,
   "metadata": {},
   "outputs": [],
   "source": []
  },
  {
   "cell_type": "code",
   "execution_count": 6,
   "metadata": {},
   "outputs": [
    {
     "name": "stdout",
     "output_type": "stream",
     "text": [
      "Shape of X train and X validation tensor: (4000, 165) (3000, 165)\n",
      "Shape of label train and validation tensor: (4000,) (3000,)\n"
     ]
    }
   ],
   "source": [
    "   \n",
    "tokenizer = Tokenizer(num_words=6948)\n",
    "\n",
    "tokenizer.fit_on_texts(X_train)\n",
    "list_tokenized_train = tokenizer.texts_to_sequences(X_train)\n",
    "\n",
    "tokenizer.fit_on_texts(X_test)\n",
    "list_tokenized_test = tokenizer.texts_to_sequences(X_test)\n",
    "\n",
    "\n",
    "\n",
    "X_t = pad_sequences(list_tokenized_train, 165)\n",
    "X_test = pad_sequences(list_tokenized_test, 165)\n",
    "\n",
    "\n",
    "\n",
    "X_val = X_t[:3000]\n",
    "X_trainn = X_t[3000:]\n",
    "\n",
    "y_val = y_train[:3000]\n",
    "y_trainn = y_train[3000:]\n",
    "\n",
    "y_trainn = np.asarray(y_trainn)\n",
    "y_val = np.asarray(y_val)\n",
    "\n",
    "print('Shape of X train and X validation tensor:', X_trainn.shape,X_val.shape)\n",
    "print('Shape of label train and validation tensor:', y_trainn.shape,y_val.shape)"
   ]
  },
  {
   "cell_type": "code",
   "execution_count": null,
   "metadata": {},
   "outputs": [],
   "source": []
  },
  {
   "cell_type": "code",
   "execution_count": 7,
   "metadata": {},
   "outputs": [],
   "source": [
    "max_features = 100000\n",
    "batch_size = 128\n",
    "epochs = 5\n",
    "num_classes=5\n",
    "embed_size = 150\n",
    "num_unique_word = 6948"
   ]
  },
  {
   "cell_type": "code",
   "execution_count": null,
   "metadata": {},
   "outputs": [],
   "source": []
  },
  {
   "cell_type": "code",
   "execution_count": null,
   "metadata": {},
   "outputs": [],
   "source": []
  },
  {
   "cell_type": "code",
   "execution_count": 16,
   "metadata": {},
   "outputs": [
    {
     "name": "stdout",
     "output_type": "stream",
     "text": [
      "Model: \"sequential_2\"\n",
      "_________________________________________________________________\n",
      "Layer (type)                 Output Shape              Param #   \n",
      "=================================================================\n",
      "embedding_2 (Embedding)      (None, None, 150)         1042200   \n",
      "_________________________________________________________________\n",
      "conv1d_2 (Conv1D)            (None, None, 64)          38464     \n",
      "_________________________________________________________________\n",
      "max_pooling1d_2 (MaxPooling1 (None, None, 64)          0         \n",
      "_________________________________________________________________\n",
      "lstm_2 (LSTM)                (None, 100)               66000     \n",
      "_________________________________________________________________\n",
      "dense_2 (Dense)              (None, 1)                 101       \n",
      "=================================================================\n",
      "Total params: 1,146,765\n",
      "Trainable params: 1,146,765\n",
      "Non-trainable params: 0\n",
      "_________________________________________________________________\n"
     ]
    }
   ],
   "source": [
    "## create model\n",
    "model_LSTM = Sequential()\n",
    "model_LSTM.add(Embedding(num_unique_word, embed_size))\n",
    "model_LSTM.add(Conv1D(64,kernel_size=4,padding='same',activation='relu',strides=1))\n",
    "model_LSTM.add(MaxPooling1D(pool_size=4))\n",
    "model_LSTM.add(LSTM(100))\n",
    "model_LSTM.add(Dense(1, activation='relu'))\n",
    "model_LSTM.compile(loss='binary_crossentropy', optimizer='adam', metrics=['accuracy'])\n",
    "## Fit train data\n",
    "model_LSTM.summary()"
   ]
  },
  {
   "cell_type": "code",
   "execution_count": 17,
   "metadata": {},
   "outputs": [
    {
     "name": "stdout",
     "output_type": "stream",
     "text": [
      "Epoch 1/5\n",
      "32/32 [==============================] - 4s 72ms/step - loss: 1.2508 - accuracy: 0.5534 - val_loss: 0.5457 - val_accuracy: 0.7113\n",
      "Epoch 2/5\n",
      "32/32 [==============================] - 2s 60ms/step - loss: 0.4718 - accuracy: 0.7662 - val_loss: 0.4901 - val_accuracy: 0.7677\n",
      "Epoch 3/5\n",
      "32/32 [==============================] - 2s 60ms/step - loss: 0.3534 - accuracy: 0.8522 - val_loss: 0.4978 - val_accuracy: 0.8230\n",
      "Epoch 4/5\n",
      "32/32 [==============================] - 2s 61ms/step - loss: 0.2550 - accuracy: 0.9147 - val_loss: 0.4620 - val_accuracy: 0.8473\n",
      "Epoch 5/5\n",
      "32/32 [==============================] - 2s 61ms/step - loss: 0.1477 - accuracy: 0.9609 - val_loss: 0.6836 - val_accuracy: 0.8593\n"
     ]
    }
   ],
   "source": [
    "hist = model_LSTM.fit(X_trainn,y_trainn, batch_size=batch_size, epochs=epochs, validation_data=(X_val, y_val))"
   ]
  },
  {
   "cell_type": "code",
   "execution_count": 18,
   "metadata": {},
   "outputs": [
    {
     "name": "stdout",
     "output_type": "stream",
     "text": [
      "5/5 [==============================] - 0s 5ms/step - loss: 2.6218 - accuracy: 0.6757\n"
     ]
    }
   ],
   "source": [
    "results = model_LSTM.evaluate(X_test,Validationdata['label'])"
   ]
  },
  {
   "cell_type": "code",
   "execution_count": null,
   "metadata": {},
   "outputs": [],
   "source": []
  },
  {
   "cell_type": "code",
   "execution_count": null,
   "metadata": {},
   "outputs": [],
   "source": []
  },
  {
   "cell_type": "code",
   "execution_count": 27,
   "metadata": {},
   "outputs": [],
   "source": [
    "model2 = Sequential()\n",
    "model2.add(Embedding(num_unique_word, embed_size))\n",
    "model2.add(Conv1D(128,kernel_size=5,padding='same',activation='relu',strides=1))\n",
    "model2.add(MaxPooling1D(pool_size=4))\n",
    "model2.add(LSTM(100, return_sequences = True))\n",
    "model2.add(Dense(1, activation=\"relu\"))\n",
    "model2.compile(loss='binary_crossentropy', optimizer='adam', metrics=['accuracy'])\n"
   ]
  },
  {
   "cell_type": "code",
   "execution_count": 28,
   "metadata": {},
   "outputs": [
    {
     "name": "stdout",
     "output_type": "stream",
     "text": [
      "Epoch 1/5\n",
      "32/32 [==============================] - 5s 94ms/step - loss: 1.1276 - accuracy: 0.4901 - val_loss: 0.6521 - val_accuracy: 0.6380\n",
      "Epoch 2/5\n",
      "32/32 [==============================] - 3s 79ms/step - loss: 0.6355 - accuracy: 0.6415 - val_loss: 0.6303 - val_accuracy: 0.6452\n",
      "Epoch 3/5\n",
      "32/32 [==============================] - 3s 79ms/step - loss: 0.6012 - accuracy: 0.6536 - val_loss: 0.6189 - val_accuracy: 0.6519\n",
      "Epoch 4/5\n",
      "32/32 [==============================] - 3s 80ms/step - loss: 0.5934 - accuracy: 0.6524 - val_loss: 0.6509 - val_accuracy: 0.6306\n",
      "Epoch 5/5\n",
      "32/32 [==============================] - 3s 81ms/step - loss: 0.5739 - accuracy: 0.6654 - val_loss: 0.6616 - val_accuracy: 0.6349\n"
     ]
    }
   ],
   "source": [
    "hist = model2.fit(X_trainn,y_trainn, batch_size=batch_size, epochs=epochs, validation_data=(X_val, y_val))"
   ]
  },
  {
   "cell_type": "code",
   "execution_count": 29,
   "metadata": {},
   "outputs": [
    {
     "name": "stdout",
     "output_type": "stream",
     "text": [
      "5/5 [==============================] - 0s 7ms/step - loss: 0.9957 - accuracy: 0.6501\n"
     ]
    }
   ],
   "source": [
    "results = model2.evaluate(X_test,Validationdata['label'])"
   ]
  },
  {
   "cell_type": "code",
   "execution_count": null,
   "metadata": {},
   "outputs": [],
   "source": []
  },
  {
   "cell_type": "code",
   "execution_count": null,
   "metadata": {},
   "outputs": [],
   "source": []
  },
  {
   "cell_type": "code",
   "execution_count": 23,
   "metadata": {},
   "outputs": [
    {
     "name": "stderr",
     "output_type": "stream",
     "text": [
      "C:\\Users\\calum\\anaconda3\\lib\\site-packages\\tensorflow\\python\\keras\\engine\\sequential.py:450: UserWarning: `model.predict_classes()` is deprecated and will be removed after 2021-01-01. Please use instead:* `np.argmax(model.predict(x), axis=-1)`,   if your model does multi-class classification   (e.g. if it uses a `softmax` last-layer activation).* `(model.predict(x) > 0.5).astype(\"int32\")`,   if your model does binary classification   (e.g. if it uses a `sigmoid` last-layer activation).\n",
      "  warnings.warn('`model.predict_classes()` is deprecated and '\n"
     ]
    },
    {
     "name": "stdout",
     "output_type": "stream",
     "text": [
      "0.8363636363636363\n",
      "0.5411764705882353\n",
      "0.6991596638655462\n"
     ]
    },
    {
     "data": {
      "text/plain": [
       "0.6756756756756757"
      ]
     },
     "execution_count": 23,
     "metadata": {},
     "output_type": "execute_result"
    }
   ],
   "source": [
    "\n",
    "predictedsvm = model_LSTM.predict_classes(X_test)\n",
    "predictedsvm = predictedsvm[:, 0]\n",
    "accuracy_score_sig = metrics.accuracy_score(predictedsvm, y_test)\n",
    "accuracy_score_auc = metrics.roc_auc_score(predictedsvm, y_test)\n",
    "accuracy_score_priv = metrics.precision_score(predictedsvm, y_test)\n",
    "accuracy_score_recall = metrics.recall_score(predictedsvm, y_test)\n",
    "\n",
    "print(accuracy_score_priv)\n",
    "print(accuracy_score_recall)\n",
    "print(accuracy_score_auc)\n",
    "accuracy_score_sig"
   ]
  },
  {
   "cell_type": "code",
   "execution_count": null,
   "metadata": {},
   "outputs": [],
   "source": []
  },
  {
   "cell_type": "code",
   "execution_count": null,
   "metadata": {},
   "outputs": [],
   "source": []
  },
  {
   "cell_type": "code",
   "execution_count": null,
   "metadata": {},
   "outputs": [],
   "source": []
  },
  {
   "cell_type": "code",
   "execution_count": null,
   "metadata": {},
   "outputs": [],
   "source": []
  },
  {
   "cell_type": "code",
   "execution_count": null,
   "metadata": {},
   "outputs": [],
   "source": []
  }
 ],
 "metadata": {
  "kernelspec": {
   "display_name": "Python 3",
   "language": "python",
   "name": "python3"
  },
  "language_info": {
   "codemirror_mode": {
    "name": "ipython",
    "version": 3
   },
   "file_extension": ".py",
   "mimetype": "text/x-python",
   "name": "python",
   "nbconvert_exporter": "python",
   "pygments_lexer": "ipython3",
   "version": "3.8.5"
  }
 },
 "nbformat": 4,
 "nbformat_minor": 4
}
