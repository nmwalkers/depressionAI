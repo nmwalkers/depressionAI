{
 "cells": [
  {
   "cell_type": "code",
   "execution_count": 18,
   "metadata": {},
   "outputs": [],
   "source": [
    "%matplotlib inline\n",
    "%config InlineBackend.figure_format = 'retina'\n",
    "\n",
    "import numpy as np\n",
    "import pandas as pd\n",
    "import matplotlib.pyplot as plt\n",
    "\n",
    "from sklearn.feature_extraction.text import CountVectorizer, TfidfTransformer\n",
    "from sklearn.linear_model import LogisticRegression\n",
    "from sklearn.svm import SVC\n",
    "from sklearn.model_selection import train_test_split, StratifiedKFold, cross_val_score\n",
    "from sklearn.pipeline import make_pipeline, Pipeline\n",
    "from sklearn.model_selection import GridSearchCV\n",
    "from sklearn.metrics import make_scorer, accuracy_score, f1_score\n",
    "from sklearn.metrics import roc_curve, auc\n",
    "from sklearn.metrics import confusion_matrix, roc_auc_score, recall_score, precision_score\n",
    "from nltk.corpus import stopwords\n",
    "from nltk.tokenize import TweetTokenizer\n",
    "from sklearn import metrics\n",
    "from sklearn.naive_bayes import MultinomialNB"
   ]
  },
  {
   "cell_type": "code",
   "execution_count": 19,
   "metadata": {},
   "outputs": [],
   "source": [
    "#Validation set manually annotated \n",
    "Validationdata = pd.read_csv('data/ds.tsv',delimiter=\"\\t\")\n",
    "\n",
    "#Set of posts samples (positive/control) filtered by their topical similarity with a depression taxonomy (Ht)\n",
    "HT_data = pd.read_csv('data/ts_ht.tsv',delimiter=\"\\t\")"
   ]
  },
  {
   "cell_type": "code",
   "execution_count": 20,
   "metadata": {},
   "outputs": [
    {
     "data": {
      "text/plain": [
       "0      1\n",
       "1      1\n",
       "2      1\n",
       "3      1\n",
       "4      1\n",
       "      ..\n",
       "143    0\n",
       "144    0\n",
       "145    0\n",
       "146    0\n",
       "147    0\n",
       "Name: label, Length: 148, dtype: int64"
      ]
     },
     "execution_count": 20,
     "metadata": {},
     "output_type": "execute_result"
    }
   ],
   "source": [
    "\n",
    "X_train = HT_data['pp_text']\n",
    "X_test = Validationdata['pp_text']\n",
    "y_train = HT_data['label']\n",
    "y_test = Validationdata['label']\n",
    "y_test"
   ]
  },
  {
   "cell_type": "code",
   "execution_count": 21,
   "metadata": {},
   "outputs": [],
   "source": [
    "\n",
    "\n",
    "def tokenize(text): \n",
    "    tknzr = TweetTokenizer()\n",
    "    return tknzr.tokenize(text)\n",
    "\n",
    "en_stopwords = set(stopwords.words(\"english\")) \n",
    "\n",
    "vectorizer = CountVectorizer(\n",
    "    analyzer = 'word',\n",
    "    tokenizer = tokenize,\n",
    "    lowercase = True,\n",
    "    ngram_range=(1, 1),\n",
    "    stop_words = en_stopwords)"
   ]
  },
  {
   "cell_type": "code",
   "execution_count": 17,
   "metadata": {},
   "outputs": [
    {
     "name": "stdout",
     "output_type": "stream",
     "text": [
      "0.9454545454545454\n",
      "0.65\n",
      "0.8029411764705882\n"
     ]
    },
    {
     "data": {
      "text/plain": [
       "0.7905405405405406"
      ]
     },
     "execution_count": 17,
     "metadata": {},
     "output_type": "execute_result"
    }
   ],
   "source": [
    "\n",
    "pipeline_NB = make_pipeline(vectorizer, \n",
    "                            MultinomialNB(alpha=1.0, class_prior=None, fit_prior=True))\n",
    "\n",
    "pipeline_NB.fit(X_train, y_train)\n",
    "\n",
    "predicted = pipeline_NB.predict(X_test)\n",
    "accuracy_score_sig = metrics.accuracy_score(predicted, y_test)\n",
    "accuracy_score_auc = metrics.roc_auc_score(predicted, y_test)\n",
    "accuracy_score_priv = metrics.precision_score(predicted, y_test)\n",
    "accuracy_score_recall = metrics.recall_score(predicted, y_test)\n",
    "\n",
    "print(accuracy_score_priv)\n",
    "print(accuracy_score_recall)\n",
    "print(accuracy_score_auc)\n",
    "accuracy_score_sig\n"
   ]
  },
  {
   "cell_type": "code",
   "execution_count": 22,
   "metadata": {},
   "outputs": [
    {
     "name": "stdout",
     "output_type": "stream",
     "text": [
      "0.9818181818181818\n",
      "0.5192307692307693\n",
      "0.7482517482517482\n"
     ]
    },
    {
     "data": {
      "text/plain": [
       "0.6554054054054054"
      ]
     },
     "execution_count": 22,
     "metadata": {},
     "output_type": "execute_result"
    }
   ],
   "source": [
    "pipeline_NB = make_pipeline(vectorizer,\n",
    "                             TfidfTransformer(),\n",
    "                            MultinomialNB(alpha=1.0, class_prior=None, fit_prior=True))\n",
    "\n",
    "pipeline_NB.fit(X_train, y_train)\n",
    "\n",
    "from sklearn import metrics\n",
    "predicted = pipeline_NB.predict(X_test)\n",
    "accuracy_score_sig = metrics.accuracy_score(predicted, y_test)\n",
    "accuracy_score_auc = metrics.roc_auc_score(predicted, y_test)\n",
    "accuracy_score_priv = metrics.precision_score(predicted, y_test)\n",
    "accuracy_score_recall = metrics.recall_score(predicted, y_test)\n",
    "\n",
    "print(accuracy_score_priv)\n",
    "print(accuracy_score_recall)\n",
    "print(accuracy_score_auc)\n",
    "accuracy_score_sig"
   ]
  },
  {
   "cell_type": "code",
   "execution_count": null,
   "metadata": {},
   "outputs": [],
   "source": []
  },
  {
   "cell_type": "code",
   "execution_count": null,
   "metadata": {},
   "outputs": [],
   "source": []
  },
  {
   "cell_type": "code",
   "execution_count": null,
   "metadata": {},
   "outputs": [],
   "source": []
  }
 ],
 "metadata": {
  "kernelspec": {
   "display_name": "Python 3",
   "language": "python",
   "name": "python3"
  },
  "language_info": {
   "codemirror_mode": {
    "name": "ipython",
    "version": 3
   },
   "file_extension": ".py",
   "mimetype": "text/x-python",
   "name": "python",
   "nbconvert_exporter": "python",
   "pygments_lexer": "ipython3",
   "version": "3.8.5"
  }
 },
 "nbformat": 4,
 "nbformat_minor": 4
}
